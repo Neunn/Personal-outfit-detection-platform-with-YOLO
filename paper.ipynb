{
 "cells": [
  {
   "cell_type": "code",
   "execution_count": 9,
   "metadata": {},
   "outputs": [],
   "source": [
    "import yaml"
   ]
  },
  {
   "cell_type": "code",
   "execution_count": 10,
   "metadata": {},
   "outputs": [],
   "source": [
    "with open(file = \"Example.yaml\", mode = \"r\") as file:\n",
    "    data = yaml.safe_load(file)"
   ]
  },
  {
   "cell_type": "code",
   "execution_count": 11,
   "metadata": {},
   "outputs": [
    {
     "data": {
      "text/plain": [
       "{'train': '../train/images',\n",
       " 'val': '../valid/images',\n",
       " 'test': '../test/images',\n",
       " 'nc': 5,\n",
       " 'names': ['Test', 'Vest', 'head', 'helmet', 'person'],\n",
       " 'roboflow': {'workspace': 'kmitl-y8ewu',\n",
       "  'project': 'hard-hat-sample-boqph',\n",
       "  'version': 5,\n",
       "  'license': 'Public Domain',\n",
       "  'url': 'https://app.roboflow.com/kmitl-y8ewu/hard-hat-sample-boqph/5'}}"
      ]
     },
     "execution_count": 11,
     "metadata": {},
     "output_type": "execute_result"
    }
   ],
   "source": [
    "data"
   ]
  },
  {
   "cell_type": "code",
   "execution_count": 12,
   "metadata": {},
   "outputs": [
    {
     "data": {
      "text/plain": [
       "['Test', 'Vest', 'head', 'helmet', 'person']"
      ]
     },
     "execution_count": 12,
     "metadata": {},
     "output_type": "execute_result"
    }
   ],
   "source": [
    "data[\"names\"]"
   ]
  },
  {
   "cell_type": "code",
   "execution_count": 13,
   "metadata": {},
   "outputs": [],
   "source": [
    "with open(file = \"Image_1/data.yaml\", mode = \"r\") as file:\n",
    "    data = yaml.safe_load(file)"
   ]
  },
  {
   "cell_type": "code",
   "execution_count": 14,
   "metadata": {},
   "outputs": [
    {
     "data": {
      "text/plain": [
       "{'names': ['Nine', 'Test1', 'Building'], 'nc': 3}"
      ]
     },
     "execution_count": 14,
     "metadata": {},
     "output_type": "execute_result"
    }
   ],
   "source": [
    "data"
   ]
  },
  {
   "cell_type": "code",
   "execution_count": 1,
   "metadata": {},
   "outputs": [
    {
     "ename": "NameError",
     "evalue": "name 'data' is not defined",
     "output_type": "error",
     "traceback": [
      "\u001b[1;31m---------------------------------------------------------------------------\u001b[0m",
      "\u001b[1;31mNameError\u001b[0m                                 Traceback (most recent call last)",
      "Cell \u001b[1;32mIn[1], line 1\u001b[0m\n\u001b[1;32m----> 1\u001b[0m \u001b[43mdata\u001b[49m[\u001b[38;5;124m\"\u001b[39m\u001b[38;5;124mnames\u001b[39m\u001b[38;5;124m\"\u001b[39m]\n",
      "\u001b[1;31mNameError\u001b[0m: name 'data' is not defined"
     ]
    }
   ],
   "source": [
    "data[\"names\"]"
   ]
  },
  {
   "cell_type": "code",
   "execution_count": 2,
   "metadata": {},
   "outputs": [],
   "source": [
    "import yaml"
   ]
  },
  {
   "cell_type": "code",
   "execution_count": 13,
   "metadata": {},
   "outputs": [
    {
     "name": "stdout",
     "output_type": "stream",
     "text": [
      "sub_info = ['0', '0.41353383458646614', '0.289532293986637', '0.10944026733500417', '0.14365256124721604\\n']\n",
      "new sub info = [0, 0.41353383458646614, 0.289532293986637, 0.10944026733500417, 0.14365256124721604]\n",
      "sub_info = ['0', '0.23809523809523808', '0.4220489977728285', '0.05179615705931495', '0.08685968819599109\\n']\n",
      "new sub info = [0, 0.23809523809523808, 0.4220489977728285, 0.05179615705931495, 0.08685968819599109]\n"
     ]
    }
   ],
   "source": [
    "with open(file = \"Image_1/000001_jpg.rf.FWaCMhujntyUTF03YKfC.txt\", mode = \"r\") as read_file:\n",
    "    data = read_file.readlines()\n",
    "    info = []\n",
    "    for i in data:\n",
    "        # sub_info.append(i.split(sep = \" \"))\n",
    "        # sub_info\n",
    "        sub_info = [sub for sub in i.split(sep = \" \")]\n",
    "        print(\"sub_info =\",sub_info)\n",
    "        for j, k in enumerate(sub_info):\n",
    "            # print(f\"k = {type(float(k))}\")\n",
    "            if j == 0:\n",
    "                sub_info[j] = int(k)\n",
    "            else:\n",
    "                sub_info[j] = float(k)\n",
    "        print(f\"new sub info = {sub_info}\")\n",
    "        info.append(sub_info)\n",
    "        sub_info = []"
   ]
  },
  {
   "cell_type": "code",
   "execution_count": 15,
   "metadata": {},
   "outputs": [
    {
     "data": {
      "text/plain": [
       "[[0,\n",
       "  0.41353383458646614,\n",
       "  0.289532293986637,\n",
       "  0.10944026733500417,\n",
       "  0.14365256124721604],\n",
       " [0,\n",
       "  0.23809523809523808,\n",
       "  0.4220489977728285,\n",
       "  0.05179615705931495,\n",
       "  0.08685968819599109]]"
      ]
     },
     "execution_count": 15,
     "metadata": {},
     "output_type": "execute_result"
    }
   ],
   "source": [
    "info"
   ]
  },
  {
   "cell_type": "code",
   "execution_count": 17,
   "metadata": {},
   "outputs": [],
   "source": [
    "for i in info:\n",
    "    x_center, y_center, w, h = i[1:]"
   ]
  },
  {
   "cell_type": "code",
   "execution_count": 21,
   "metadata": {},
   "outputs": [],
   "source": [
    "import numpy as np"
   ]
  },
  {
   "cell_type": "code",
   "execution_count": 22,
   "metadata": {},
   "outputs": [],
   "source": [
    "import seaborn as sns"
   ]
  },
  {
   "cell_type": "code",
   "execution_count": null,
   "metadata": {},
   "outputs": [],
   "source": []
  }
 ],
 "metadata": {
  "kernelspec": {
   "display_name": "Python 3",
   "language": "python",
   "name": "python3"
  },
  "language_info": {
   "codemirror_mode": {
    "name": "ipython",
    "version": 3
   },
   "file_extension": ".py",
   "mimetype": "text/x-python",
   "name": "python",
   "nbconvert_exporter": "python",
   "pygments_lexer": "ipython3",
   "version": "3.11.4"
  }
 },
 "nbformat": 4,
 "nbformat_minor": 2
}
