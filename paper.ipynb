{
 "cells": [
  {
   "cell_type": "code",
   "execution_count": 14,
   "metadata": {},
   "outputs": [],
   "source": [
    "import numpy as np"
   ]
  },
  {
   "cell_type": "code",
   "execution_count": 54,
   "metadata": {},
   "outputs": [],
   "source": [
    "ex_range = np.arange(100)\n",
    "test = np.random.choice(np.arange(225), size = 80)"
   ]
  },
  {
   "cell_type": "code",
   "execution_count": 34,
   "metadata": {},
   "outputs": [
    {
     "data": {
      "text/plain": [
       "array([191, 193,  14, 210,  42, 212,   1,  59, 195,  76, 149, 124, 158,\n",
       "        44, 211,  54, 218, 154, 181,  48, 145, 143, 212, 116, 157,  50,\n",
       "       188,   2, 102, 131, 189,  23,  29,  35, 145, 190, 120, 143, 149,\n",
       "       142,  24, 152, 145,  61, 216, 148,  24,  43, 162, 164, 152, 167,\n",
       "        31,  75, 209, 109, 121, 211,  97,  11, 217, 215, 205,  32, 123,\n",
       "        26, 192,  42,  35,  66,   3,  36,  16,  87, 199,   0,  44, 213,\n",
       "       168,  71])"
      ]
     },
     "execution_count": 34,
     "metadata": {},
     "output_type": "execute_result"
    }
   ],
   "source": [
    "test"
   ]
  },
  {
   "cell_type": "code",
   "execution_count": 37,
   "metadata": {},
   "outputs": [
    {
     "data": {
      "text/plain": [
       "array([  4,   5,   6,   7,   8,   9,  10,  12,  13,  15,  17,  18,  19,\n",
       "        20,  21,  22,  25,  27,  28,  30,  33,  34,  37,  38,  39,  40,\n",
       "        41,  45,  46,  47,  49,  51,  52,  53,  55,  56,  57,  58,  60,\n",
       "        62,  63,  64,  65,  67,  68,  69,  70,  72,  73,  74,  77,  78,\n",
       "        79,  80,  81,  82,  83,  84,  85,  86,  88,  89,  90,  91,  92,\n",
       "        93,  94,  95,  96,  98,  99, 100, 101, 103, 104, 105, 106, 107,\n",
       "       108, 110, 111, 112, 113, 114, 115, 117, 118, 119, 122, 125, 126,\n",
       "       127, 128, 129, 130, 132, 133, 134, 135, 136, 137, 138, 139, 140,\n",
       "       141, 144, 146, 147, 150, 151, 153, 155, 156, 159, 160, 161, 163,\n",
       "       165, 166, 169, 170, 171, 172, 173, 174, 175, 176, 177, 178, 179,\n",
       "       180, 182, 183, 184, 185, 186, 187, 194, 196, 197, 198, 200, 201,\n",
       "       202, 203, 204, 206, 207, 208, 214, 219, 220, 221, 222, 223, 224])"
      ]
     },
     "execution_count": 37,
     "metadata": {},
     "output_type": "execute_result"
    }
   ],
   "source": [
    "np.delete(ex_range, test)"
   ]
  },
  {
   "cell_type": "code",
   "execution_count": 43,
   "metadata": {},
   "outputs": [
    {
     "name": "stdout",
     "output_type": "stream",
     "text": [
      "218.4\n",
      "35.49\n",
      "19.11\n"
     ]
    }
   ],
   "source": [
    "print((80 * 273)/100)\n",
    "print((13 * 273)/100)\n",
    "print((7 * 273)/100)"
   ]
  },
  {
   "cell_type": "code",
   "execution_count": 56,
   "metadata": {},
   "outputs": [
    {
     "data": {
      "text/plain": [
       "[array([ 0,  1,  2,  3,  4,  5,  6,  7,  8,  9, 10, 11, 12, 13, 14, 15, 16,\n",
       "        17, 18, 19, 20, 21, 22, 23, 24, 25, 26, 27, 28, 29, 30, 31, 32, 33,\n",
       "        34, 35, 36, 37, 38, 39, 40, 41, 42, 43, 44, 45, 46, 47, 48, 49]),\n",
       " array([50, 51, 52, 53, 54, 55, 56, 57, 58, 59, 60, 61, 62, 63, 64, 65, 66,\n",
       "        67, 68, 69, 70, 71, 72, 73, 74, 75, 76, 77, 78, 79]),\n",
       " array([80, 81, 82, 83, 84, 85, 86, 87, 88, 89, 90, 91, 92, 93, 94, 95, 96,\n",
       "        97, 98, 99])]"
      ]
     },
     "execution_count": 56,
     "metadata": {},
     "output_type": "execute_result"
    }
   ],
   "source": [
    "np.split(ex_range, [int(0.5 * len(ex_range)), int(0.80 * len(ex_range))])"
   ]
  },
  {
   "cell_type": "code",
   "execution_count": 57,
   "metadata": {},
   "outputs": [],
   "source": [
    "test = {\"keasd\" : 122312, \"asdsadasd\" : 89989}"
   ]
  },
  {
   "cell_type": "code",
   "execution_count": 58,
   "metadata": {},
   "outputs": [],
   "source": [
    "test[\"dsadascxzc\"] = \"dsaddasdsavcx v\""
   ]
  },
  {
   "cell_type": "code",
   "execution_count": 59,
   "metadata": {},
   "outputs": [
    {
     "data": {
      "text/plain": [
       "{'keasd': 122312, 'asdsadasd': 89989, 'dsadascxzc': 'dsaddasdsavcx v'}"
      ]
     },
     "execution_count": 59,
     "metadata": {},
     "output_type": "execute_result"
    }
   ],
   "source": [
    "test"
   ]
  },
  {
   "cell_type": "code",
   "execution_count": 60,
   "metadata": {},
   "outputs": [],
   "source": [
    "del test[\"keasd\"], test[\"asdsadasd\"]"
   ]
  },
  {
   "cell_type": "code",
   "execution_count": 1,
   "metadata": {},
   "outputs": [],
   "source": [
    "import os"
   ]
  },
  {
   "cell_type": "code",
   "execution_count": 3,
   "metadata": {},
   "outputs": [
    {
     "data": {
      "text/plain": [
       "'c:\\\\Users\\\\ExpertBook\\\\Desktop\\\\WorkSpace\\\\University\\\\Year 3\\\\เทอม 2\\\\PRE-PROJECT\\\\WorkSpace\\\\Image_1\\\\train\\\\images'"
      ]
     },
     "execution_count": 3,
     "metadata": {},
     "output_type": "execute_result"
    }
   ],
   "source": [
    "os.path.abspath(\"Image_1/train/images\")"
   ]
  }
 ],
 "metadata": {
  "kernelspec": {
   "display_name": "Python 3",
   "language": "python",
   "name": "python3"
  },
  "language_info": {
   "codemirror_mode": {
    "name": "ipython",
    "version": 3
   },
   "file_extension": ".py",
   "mimetype": "text/x-python",
   "name": "python",
   "nbconvert_exporter": "python",
   "pygments_lexer": "ipython3",
   "version": "3.11.4"
  }
 },
 "nbformat": 4,
 "nbformat_minor": 2
}
